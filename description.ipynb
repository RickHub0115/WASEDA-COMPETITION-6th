{
 "cells": [
  {
   "cell_type": "markdown",
   "metadata": {},
   "source": [
    "# 第6回早稲田大学データサイエンスコンペティション"
   ]
  },
  {
   "cell_type": "markdown",
   "metadata": {},
   "source": [
    "code\n",
    "\n",
    "https://github.com/taishirooo/cfml-WASEDA-datascience-competition"
   ]
  }
 ],
 "metadata": {
  "language_info": {
   "name": "python"
  }
 },
 "nbformat": 4,
 "nbformat_minor": 2
}
